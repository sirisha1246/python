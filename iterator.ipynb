{
  "nbformat": 4,
  "nbformat_minor": 0,
  "metadata": {
    "colab": {
      "name": "Untitled12.ipynb",
      "provenance": [],
      "authorship_tag": "ABX9TyPmcVQoxek3Q+tNbn+EnE+I",
      "include_colab_link": true
    },
    "kernelspec": {
      "name": "python3",
      "display_name": "Python 3"
    }
  },
  "cells": [
    {
      "cell_type": "markdown",
      "metadata": {
        "id": "view-in-github",
        "colab_type": "text"
      },
      "source": [
        "<a href=\"https://colab.research.google.com/github/sirisha1246/python/blob/master/iterator.ipynb\" target=\"_parent\"><img src=\"https://colab.research.google.com/assets/colab-badge.svg\" alt=\"Open In Colab\"/></a>"
      ]
    },
    {
      "cell_type": "code",
      "metadata": {
        "id": "OcXEfZ7rTIvm",
        "colab_type": "code",
        "outputId": "f42c3538-22d1-4358-bbb6-b49c3e042f79",
        "colab": {
          "base_uri": "https://localhost:8080/",
          "height": 87
        }
      },
      "source": [
        "# define a list\n",
        "my_list = [4, 7, 0, 3]\n",
        "\n",
        "# get an iterator using iter()\n",
        "my_iter = iter(my_list)\n",
        "\n",
        "## iterate through it using next() \n",
        "\n",
        "#prints 4\n",
        "print(next(my_iter))\n",
        "\n",
        "#prints 7\n",
        "print(next(my_iter))\n",
        "\n",
        "## next(obj) is same as obj.__next__()\n",
        "\n",
        "#prints 0\n",
        "print(my_iter.__next__())\n",
        "\n",
        "#prints 3\n",
        "print(my_iter.__next__())\n",
        "\n",
        "## This will raise error, no items left\n",
        "#next(my_iter)"
      ],
      "execution_count": 1,
      "outputs": [
        {
          "output_type": "stream",
          "text": [
            "4\n",
            "7\n",
            "0\n",
            "3\n"
          ],
          "name": "stdout"
        }
      ]
    },
    {
      "cell_type": "code",
      "metadata": {
        "id": "UmTtFORQUA8m",
        "colab_type": "code",
        "outputId": "fbc6bf62-e3b2-4bf2-8f3f-c711bac56ab4",
        "colab": {
          "base_uri": "https://localhost:8080/",
          "height": 104
        }
      },
      "source": [
        "class PowTwo:\n",
        "    \"\"\"Class to implement an iterator\n",
        "    of powers of two\"\"\"\n",
        "\n",
        "    def __init__(self, max = 0):\n",
        "        self.max = max\n",
        "\n",
        "    def __iter__(self):\n",
        "        self.n = 0\n",
        "        return self\n",
        "\n",
        "    def __next__(self):\n",
        "        if self.n <= self.max:\n",
        "            result = 2 ** self.n\n",
        "            self.n += 1\n",
        "            return result\n",
        "        else:\n",
        "            raise StopIteration\n",
        "\n",
        "a = PowTwo(4) # 0 -4 (5)\n",
        "itr = iter(a)\n",
        "\n",
        "try:\n",
        "  while True:\n",
        "    print(next(a))\n",
        "except:\n",
        "  pass \n"
      ],
      "execution_count": 2,
      "outputs": [
        {
          "output_type": "stream",
          "text": [
            "1\n",
            "2\n",
            "4\n",
            "8\n",
            "16\n"
          ],
          "name": "stdout"
        }
      ]
    },
    {
      "cell_type": "code",
      "metadata": {
        "id": "afDlf81J8Srz",
        "colab_type": "code",
        "colab": {}
      },
      "source": [
        "class InfIter:\n",
        "    \"\"\"Infinite iterator to return all\n",
        "        odd numbers\"\"\"\n",
        "\n",
        "    def __iter__(self):\n",
        "        self.num = 1\n",
        "        return self\n",
        "\n",
        "    def __next__(self):\n",
        "        num = self.num\n",
        "        self.num += 2\n",
        "        return num\n",
        "\n",
        "obj = InfIter()\n",
        "itr = iter(obj)\n",
        "\n",
        "while True:\n",
        "  print(next(itr))\n"
      ],
      "execution_count": 0,
      "outputs": []
    }
  ]
}
