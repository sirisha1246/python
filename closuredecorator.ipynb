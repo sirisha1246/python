{
  "nbformat": 4,
  "nbformat_minor": 0,
  "metadata": {
    "colab": {
      "name": "Untitled2.ipynb",
      "provenance": [],
      "authorship_tag": "ABX9TyNLYbHNc21jzILrKpVGM2Kz",
      "include_colab_link": true
    },
    "kernelspec": {
      "name": "python3",
      "display_name": "Python 3"
    }
  },
  "cells": [
    {
      "cell_type": "markdown",
      "metadata": {
        "id": "view-in-github",
        "colab_type": "text"
      },
      "source": [
        "<a href=\"https://colab.research.google.com/github/sirisha1246/python/blob/master/closuredecorator.ipynb\" target=\"_parent\"><img src=\"https://colab.research.google.com/assets/colab-badge.svg\" alt=\"Open In Colab\"/></a>"
      ]
    },
    {
      "cell_type": "code",
      "metadata": {
        "id": "PQUbgE8hfUe4",
        "colab_type": "code",
        "colab": {}
      },
      "source": [
        "def outer_function():\n",
        "    a = 5  # local to outer_function \n",
        "    def inner_function():\n",
        "        nonlocal a\n",
        "        a = 10\n",
        "        print(\"Inner function: \",a)\n",
        "    inner_function()\n",
        "    print(\"Outer function: \",a)\n",
        "\n",
        "outer_function()"
      ],
      "execution_count": 0,
      "outputs": []
    },
    {
      "cell_type": "code",
      "metadata": {
        "id": "HZc75DI5gYDn",
        "colab_type": "code",
        "colab": {}
      },
      "source": [
        "myString = 'syamlivesinhyderabad'\n",
        "\n",
        "for i in range(0,len(myString),3):\n",
        "  newString=myString[i:i+3]\n",
        "  print(newString)"
      ],
      "execution_count": 0,
      "outputs": []
    },
    {
      "cell_type": "code",
      "metadata": {
        "id": "h4KYQZ_yhtUN",
        "colab_type": "code",
        "outputId": "b818a599-30ec-4d1d-bd98-6afa8500c56c",
        "colab": {
          "base_uri": "https://localhost:8080/",
          "height": 485
        }
      },
      "source": [
        "word = \"babu, kumar, lives, in, sunnyvale\"\n",
        "\n",
        "# print(word.split(\",\",3)) #IN OUTPUT splits into multiple strings, observe the quotes.\n",
        "word2 = \"babukumarlivesinsunnyvale\"  #single string without delimiters.  I want to split at every 3 characters\n",
        "word2 = \"Babukumarlivesinsunnyvale\"  #single string without delimiters. \n",
        "length_word2 = (len(word2))\n",
        "start = 0\n",
        "stop = (len(word2))\n",
        "step = 3\n",
        "\n",
        "# print(start)\n",
        "# print(stop)\n",
        "# print(step)\n",
        "\n",
        "slice_string = word2[slice(start,step)]\n",
        "# print(slice_string)\n",
        "print(\"1-----------------------------\")\n",
        "print(word2)\n",
        "for i in word2:\n",
        "    # slice_string = word2[slice(start,step)]\n",
        "    slice_string = word2[start:step]\n",
        "    start=step\n",
        "    step=step+3\n",
        "    print(slice_string)\n",
        "   # print(\" i = \", i)"
      ],
      "execution_count": 0,
      "outputs": [
        {
          "output_type": "stream",
          "text": [
            "1-----------------------------\n",
            "Babukumarlivesinsunnyvale\n",
            "Bab\n",
            "uku\n",
            "mar\n",
            "liv\n",
            "esi\n",
            "nsu\n",
            "nny\n",
            "val\n",
            "e\n",
            "\n",
            "\n",
            "\n",
            "\n",
            "\n",
            "\n",
            "\n",
            "\n",
            "\n",
            "\n",
            "\n",
            "\n",
            "\n",
            "\n",
            "\n",
            "\n"
          ],
          "name": "stdout"
        }
      ]
    },
    {
      "cell_type": "code",
      "metadata": {
        "id": "ordMHEfogmA2",
        "colab_type": "code",
        "colab": {}
      },
      "source": [
        "def print_msg(msg):\n",
        "# This is the outer enclosing function\n",
        "    def printer():\n",
        "# This is the nested function\n",
        "        nonlocal msg\n",
        "        msg = \"new\"\n",
        "        print(msg)\n",
        "    printer()\n",
        "\n",
        "# We execute the function\n",
        "# Output: Hello\n",
        "print_msg(\"Hello\")"
      ],
      "execution_count": 0,
      "outputs": []
    },
    {
      "cell_type": "code",
      "metadata": {
        "id": "FY4ldyG3hUVY",
        "colab_type": "code",
        "colab": {}
      },
      "source": [
        "def print_msg(msg):\n",
        "# This is the outer enclosing function\n",
        "\n",
        "    def printer():\n",
        "# This is the nested function\n",
        "        print(msg)\n",
        "\n",
        "    return printer  # this got changed\n",
        "\n",
        "# Now let's try calling this function.\n",
        "# Output: Hello\n",
        "another = print_msg(\"Hello\")\n",
        "another()"
      ],
      "execution_count": 0,
      "outputs": []
    },
    {
      "cell_type": "code",
      "metadata": {
        "id": "EU-V_l6kiJ_N",
        "colab_type": "code",
        "colab": {}
      },
      "source": [
        "def make_multiplier_of(n):\n",
        "    def multiplier(x):\n",
        "        return x * n\n",
        "    return multiplier  #inner functions returns\n",
        "\n",
        "# Multiplier of 3\n",
        "times3 = make_multiplier_of(3)\n",
        "\n",
        "# Multiplier of 5\n",
        "times5 = make_multiplier_of(5)\n",
        "\n",
        "# Output: 27\n",
        "print(times3(9))\n",
        "\n",
        "# Output: 15\n",
        "print(times5(3))\n",
        "\n",
        "# Output: 30\n",
        "print(times5(times3(2)))"
      ],
      "execution_count": 0,
      "outputs": []
    },
    {
      "cell_type": "code",
      "metadata": {
        "id": "QvF-zGZziRZW",
        "colab_type": "code",
        "colab": {}
      },
      "source": [
        "make_multiplier_of.__closure__"
      ],
      "execution_count": 0,
      "outputs": []
    },
    {
      "cell_type": "code",
      "metadata": {
        "id": "8q-r59KMimRM",
        "colab_type": "code",
        "colab": {}
      },
      "source": [
        "times3.__closure__"
      ],
      "execution_count": 0,
      "outputs": []
    },
    {
      "cell_type": "code",
      "metadata": {
        "id": "3cUDWnEoitDC",
        "colab_type": "code",
        "colab": {}
      },
      "source": [
        "times3.__closure__[0].cell_contents  #oops encapsule - package (data + methoeds)  - data hiding -private __ or _"
      ],
      "execution_count": 0,
      "outputs": []
    },
    {
      "cell_type": "code",
      "metadata": {
        "id": "GqJnP1SDi6DM",
        "colab_type": "code",
        "colab": {}
      },
      "source": [
        "times5.__closure__[0].cell_contents"
      ],
      "execution_count": 0,
      "outputs": []
    },
    {
      "cell_type": "code",
      "metadata": {
        "id": "Oi_oNuMXjlK9",
        "colab_type": "code",
        "colab": {}
      },
      "source": [
        "def inc(x):\n",
        "    return x + 1\n",
        "\n",
        "def dec(x):\n",
        "    return x - 1\n",
        "\n",
        "def operate(func, x):\n",
        "    result = func(x)\n",
        "    return result\n",
        "\n",
        "operate(inc,3)\n",
        "operate(dec,3)"
      ],
      "execution_count": 0,
      "outputs": []
    },
    {
      "cell_type": "code",
      "metadata": {
        "id": "ndmLTjW1kA66",
        "colab_type": "code",
        "colab": {}
      },
      "source": [
        "def is_called():\n",
        "    def is_returned():\n",
        "        print(\"Hello\")\n",
        "    return is_returned\n",
        "\n",
        "new = is_called()\n",
        "\n",
        "#Outputs \"Hello\"\n",
        "new()"
      ],
      "execution_count": 0,
      "outputs": []
    },
    {
      "cell_type": "code",
      "metadata": {
        "id": "SN_G5yN4ckBa",
        "colab_type": "code",
        "colab": {}
      },
      "source": [
        "def make_pretty(func):\n",
        "    def inner():\n",
        "        print(\"I got decorated\")\n",
        "        func()\n",
        "    return inner\n",
        "\n",
        "def ordinary():\n",
        "    print(\"I am ordinary\")\n",
        "\n",
        "x = make_pretty(ordinary)\n",
        "\n",
        "x()"
      ],
      "execution_count": 0,
      "outputs": []
    },
    {
      "cell_type": "code",
      "metadata": {
        "id": "HqLCWi4xkDF6",
        "colab_type": "code",
        "colab": {}
      },
      "source": [
        "def make_pretty(func):\n",
        "    def inner():\n",
        "        print(\"I got decorated\")\n",
        "        func()\n",
        "    return inner\n",
        "\n",
        "# ordinary -- make_pretty  -oridnary    \n",
        "@make_pretty\n",
        "def ordinary():\n",
        "    print(\"I am ordinary\")\n",
        "\n",
        "@make_pretty\n",
        "def ordinary1():\n",
        "    print(\"I am ordinary-1\")\n",
        "\n",
        "@make_pretty\n",
        "def ordinary2():\n",
        "    print(\"I am ordinary-2\")    \n",
        "\n",
        "decor = ordinary\n",
        "decor()\n",
        "ordinary1()\n",
        "ordinary2()"
      ],
      "execution_count": 0,
      "outputs": []
    },
    {
      "cell_type": "code",
      "metadata": {
        "id": "DPqnS4yclOWO",
        "colab_type": "code",
        "colab": {}
      },
      "source": [
        "#print(decor.__closure__[0].cell_contents)\n",
        "print(ordinary.__closure__)"
      ],
      "execution_count": 0,
      "outputs": []
    },
    {
      "cell_type": "code",
      "metadata": {
        "id": "0DoMaBAMlR4h",
        "colab_type": "code",
        "colab": {}
      },
      "source": [
        "def smart_divide(func):  # non local \n",
        "   def inner(a,b):\n",
        "      print(\"I am going to divide\",a,\"and\",b)\n",
        "      if b == 0:\n",
        "         print(\"Whoops! cannot divide\")\n",
        "         return\n",
        "\n",
        "      return func(a,b)\n",
        "   return inner\n",
        "\n",
        "@smart_divide\n",
        "def divide(a,b):\n",
        "    return a/b\n",
        "print(divide(2,3))  # smart - divide (divide)\n",
        "divide(2,0)    "
      ],
      "execution_count": 0,
      "outputs": []
    },
    {
      "cell_type": "code",
      "metadata": {
        "id": "vV-1ouM-rcRB",
        "colab_type": "code",
        "colab": {}
      },
      "source": [
        "def works_for_all(func):\n",
        "    def inner(*args, **kwargs):\n",
        "        print(\"I can decorate any function\")\n",
        "        return func(*args, **kwargs)\n",
        "    return inner\n",
        "\n",
        "@works_for_all\n",
        "def multi(*args,**kwargs):\n",
        "    print(args) \n",
        "    print(kwargs) \n",
        "\n",
        "\n",
        "multi(\"new\",\"new1\",\"new2\",\"new3\",key=\"23\",key1=\"nnn\")    "
      ],
      "execution_count": 0,
      "outputs": []
    },
    {
      "cell_type": "code",
      "metadata": {
        "id": "whrPHJz7tYtC",
        "colab_type": "code",
        "colab": {}
      },
      "source": [
        "def star(func):\n",
        "    def inner(*args, **kwargs):\n",
        "        print(\"*\" * 30)\n",
        "        func(*args, **kwargs)\n",
        "        print(\"*\" * 30)\n",
        "    return inner\n",
        "\n",
        "def percent(func):\n",
        "    def inner(*args, **kwargs):\n",
        "        print(\"%\" * 30)\n",
        "        func(*args, **kwargs)\n",
        "        print(\"%\" * 30)\n",
        "    return inner\n",
        "\n",
        "@star\n",
        "@percent\n",
        "def printer(msg):\n",
        "    print(msg)\n",
        "printer(\"Hello\")"
      ],
      "execution_count": 0,
      "outputs": []
    },
    {
      "cell_type": "code",
      "metadata": {
        "id": "JXo4JI83uQpk",
        "colab_type": "code",
        "colab": {}
      },
      "source": [
        "def trace(f):\n",
        "...     \"Decorate a function to print a message before and after execution.\"\n",
        "...     def traced(*args, **kw):\n",
        "...         \"Print message before and after a function call.\"\n",
        "...         print(\"Entering\", f.__name__)\n",
        "...         result = f(*args, **kw)\n",
        "...         print(\"Leaving\", f.__name__)\n",
        "...         return result\n",
        "...     return traced\n",
        "\n",
        "@trace\n",
        "... def myfunc(x, a=None):\n",
        "...     \"Simply prints a message and arguments.\"\n",
        "...     print(\"Inside myfunc\")\n",
        "...     print(\"x:\", x, \"a:\", a)\n",
        "\n",
        "myfunc(\"ONE\")"
      ],
      "execution_count": 0,
      "outputs": []
    },
    {
      "cell_type": "code",
      "metadata": {
        "id": "tqqN4Bowu-PK",
        "colab_type": "code",
        "colab": {}
      },
      "source": [
        "trace.__name__\n",
        "myfunc.__name__\n",
        "myfunc.__doc__"
      ],
      "execution_count": 0,
      "outputs": []
    },
    {
      "cell_type": "code",
      "metadata": {
        "id": "S8WRdmiSvsVV",
        "colab_type": "code",
        "colab": {}
      },
      "source": [
        "from functools import wraps\n",
        ">>> def simpledec(f):\n",
        "...     \"A really simple decorator to demonstrate functools.wraps.\"\n",
        "...     @wraps(f)\n",
        "...     def wrapper(arg):\n",
        "...         print(\"Calling f with arg\", arg)\n",
        "...         return f(arg)\n",
        "...     return wrapper\n",
        "... \n",
        ">>> @simpledec\n",
        "... def f(x):\n",
        "...     \"Simply prints its argument.\"\n",
        "...     print(\"Inside f, arg is\", x)\n",
        "... \n",
        ">>> f(\"Hello\")\n",
        ">>> f.__name__\n",
        ">>> f.__doc__\n",
        ">>> "
      ],
      "execution_count": 0,
      "outputs": []
    },
    {
      "cell_type": "code",
      "metadata": {
        "id": "neZw0QrS29Xx",
        "colab_type": "code",
        "colab": {}
      },
      "source": [
        "class ctrace:\n",
        "...     def __init__(self, f):\n",
        "...         \"__init__ records the passed function for later use in __call__().\"\n",
        "...         self.__doc__ = f.__doc__\n",
        "...         self.__name__ = f.__name__\n",
        "...         self.f = f\n",
        "...     def __call__(self, *args, **kw):\n",
        "...         \"Prints a trace line before calling the wrapped function.\"\n",
        "...         print(\"Called\", self.f.__name__)\n",
        "...         return self.f(*args, **kw)\n",
        "... \n",
        ">>> @ctrace\n",
        "... def simple(x):\n",
        "...     \"Just prints arg and returns it.\"\n",
        "...     print(\"simple called with\", x)\n",
        "...     return x\n",
        "\n",
        "simple(\"class decorator\")"
      ],
      "execution_count": 0,
      "outputs": []
    },
    {
      "cell_type": "code",
      "metadata": {
        "id": "1MSd5v6p5Cbu",
        "colab_type": "code",
        "colab": {}
      },
      "source": [
        "def callable(o):\n",
        "...     return hasattr(o, \"__call__\")\n",
        "...\n",
        ">>> def mtrace(cls1):\n",
        "...     for key, val in cls1.__dict__.items():\n",
        "...         if key.startswith(\"__\") and key.endswith(\"__\") or not callable(val):\n",
        "...             continue\n",
        "...         setattr(cls1, key, trace(val))\n",
        "...         #print(\"Wrapped\", key)\n",
        "...     return cls1\n",
        "... \n",
        ">>> @mtrace  # mtrace class - dull\n",
        "... class dull:\n",
        "...     def method1(self, arg):\n",
        "...         print(\"Method 1 called with arg\", arg)\n",
        "...     def method2(self, arg):\n",
        "...         print(\"Method 2 called with arg\", arg)\n",
        "\n",
        ">>> d = dull()\n",
        ">>> d.method1(\"Hello\")\n",
        ">>> d.method2(\"Goodbye\")"
      ],
      "execution_count": 0,
      "outputs": []
    },
    {
      "cell_type": "code",
      "metadata": {
        "id": "XD_5UVzd6UDC",
        "colab_type": "code",
        "colab": {}
      },
      "source": [
        ">>> def framework(f):  # somefunc\n",
        "...     f.framework = True #somefunc.fr --- true\n",
        "...     f.author = \"Myself\" #somefunc.auth ---- myes\n",
        "...     return f\n",
        "... \n",
        ">>> @framework\n",
        "... def somefunc(x):\n",
        "...     pass\n",
        "... \n",
        ">>> somefunc.framework\n",
        ">>> somefunc.author"
      ],
      "execution_count": 0,
      "outputs": []
    },
    {
      "cell_type": "code",
      "metadata": {
        "id": "9Zyp4uuY7Btd",
        "colab_type": "code",
        "colab": {}
      },
      "source": [
        ">>> counts = {}\n",
        ">>> def countable(ftype):\n",
        "...     \"Returns a decorator that counts each call of a function against ftype.\"\n",
        "...     def decorator(f):\n",
        "...         \"Decorates a function and to count each call.\"\n",
        "...         def wrapper(*args, **kw):\n",
        "...             \"Counts every call as being of the given type.\"\n",
        "...             try:\n",
        "...                 counts[ftype] += 1\n",
        "...             except KeyError:\n",
        "...                 counts[ftype] = 1\n",
        "...             return f(*args, **kw)\n",
        "...         return wrapper\n",
        "...     return decorator\n",
        "... \n",
        ">>> @countable(\"short\")\n",
        "... def f1(a, b=None):\n",
        "...     print(\"f1 called with\", a, b)\n",
        "... \n",
        ">>> @countable(\"f2\")\n",
        "... def f2():\n",
        "...     print(\"f2 called\")\n",
        "... \n",
        ">>> @countable(\"short\")\n",
        "... def f3(*args, **kw):\n",
        "...     print(\"f3 called:\", args, kw)\n",
        "... \n",
        ">>> for i in range(10): # 0 - 9 \n",
        "...     f1(1)\n",
        "...     f2()\n",
        "...     f3(i, i*i, a=i)\n",
        "\n",
        "for k in sorted(counts.keys()):\n",
        "...     print(k, \":\", counts[k])"
      ],
      "execution_count": 0,
      "outputs": []
    },
    {
      "cell_type": "code",
      "metadata": {
        "id": "XT4aCyR4oWUX",
        "colab_type": "code",
        "colab": {
          "base_uri": "https://localhost:8080/",
          "height": 260
        },
        "outputId": "484e267f-7296-469a-bcb4-597d6a8758b1"
      },
      "source": [
        "class decorator_with_arguments(object):\n",
        "\n",
        "    def __init__(self, arg1, arg2, arg3):\n",
        "        \"\"\"\n",
        "        If there are decorator arguments, the function\n",
        "        to be decorated is not passed to the constructor!\n",
        "        \"\"\"\n",
        "        print(\"Inside __init__()\")\n",
        "        self.arg1 = arg1\n",
        "        self.arg2 = arg2\n",
        "        self.arg3 = arg3\n",
        "\n",
        "    def __call__(self, f):\n",
        "        \"\"\"\n",
        "        If there are decorator arguments, __call__() is only called\n",
        "        once, as part of the decoration process! You can only give\n",
        "        it a single argument, which is the function object.\n",
        "        \"\"\"\n",
        "        print(\"Inside __call__()\")\n",
        "        def wrapped_f(*args):\n",
        "            print(\"Inside wrapped_f()\")\n",
        "            print(\"Decorator arguments:\", self.arg1, self.arg2, self.arg3)\n",
        "            f(*args)\n",
        "            print(\"After f(*args)\")\n",
        "        return wrapped_f\n",
        "\n",
        "@decorator_with_arguments(\"hello\", \"world\", 42)\n",
        "def sayHello(a1, a2, a3, a4):\n",
        "    print('sayHello arguments:', a1, a2, a3, a4)\n",
        "\n",
        "print(\"After decoration\")\n",
        "\n",
        "print(\"Preparing to call sayHello()\")\n",
        "sayHello(\"say\", \"hello\", \"argument\", \"list\")\n",
        "print(\"after first sayHello() call\")\n",
        "sayHello(\"a\", \"different\", \"set of\", \"arguments\")\n",
        "print(\"after second sayHello() call\")"
      ],
      "execution_count": 1,
      "outputs": [
        {
          "output_type": "stream",
          "text": [
            "Inside __init__()\n",
            "Inside __call__()\n",
            "After decoration\n",
            "Preparing to call sayHello()\n",
            "Inside wrapped_f()\n",
            "Decorator arguments: hello world 42\n",
            "sayHello arguments: say hello argument list\n",
            "After f(*args)\n",
            "after first sayHello() call\n",
            "Inside wrapped_f()\n",
            "Decorator arguments: hello world 42\n",
            "sayHello arguments: a different set of arguments\n",
            "After f(*args)\n",
            "after second sayHello() call\n"
          ],
          "name": "stdout"
        }
      ]
    }
  ]
}
